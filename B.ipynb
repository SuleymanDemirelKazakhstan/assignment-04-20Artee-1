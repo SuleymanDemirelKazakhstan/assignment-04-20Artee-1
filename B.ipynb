{
 "cells": [
  {
   "cell_type": "code",
   "execution_count": 12,
   "metadata": {},
   "outputs": [],
   "source": [
    "import pandas as pd\n",
    "import numpy as np"
   ]
  },
  {
   "cell_type": "code",
   "execution_count": 13,
   "metadata": {},
   "outputs": [],
   "source": [
    "#feedforward propagation\n",
    "\n",
    "def sig(x):\n",
    "    return 1/(1 + np.exp(-x))"
   ]
  },
  {
   "cell_type": "code",
   "execution_count": 14,
   "metadata": {},
   "outputs": [],
   "source": [
    "W_1 = [[0.2,0.4],[0.15,0.75],[0.3,0.01]]\n",
    "W_2 = [[0.9,0.25,0.12],[0.99,0.01,0.5]]\n",
    "x = np.array([[5,10, 1],[7,3,1],[100,5,1]])\n",
    "Y = np.array([[1,0,0],[0,1,0],[0,0,1]])"
   ]
  },
  {
   "cell_type": "code",
   "execution_count": 15,
   "metadata": {},
   "outputs": [],
   "source": [
    "N = len(Y)"
   ]
  },
  {
   "cell_type": "code",
   "execution_count": 16,
   "metadata": {},
   "outputs": [],
   "source": [
    "h_in = np.dot(x, W_1)\n",
    "h_out = sig(h_in)\n",
    "o_in = np.dot(h_out,W_2)\n",
    "o_out = sig(o_in)"
   ]
  },
  {
   "cell_type": "code",
   "execution_count": 17,
   "metadata": {},
   "outputs": [
    {
     "data": {
      "text/plain": [
       "0.5496586693699429"
      ]
     },
     "execution_count": 17,
     "metadata": {},
     "output_type": "execute_result"
    }
   ],
   "source": [
    "result = ((o_out - Y)**2).sum()/(2*N)\n",
    "result"
   ]
  },
  {
   "cell_type": "code",
   "execution_count": 18,
   "metadata": {},
   "outputs": [],
   "source": [
    "#backward propagation\n",
    "fit_rate = 0.2\n",
    "\n",
    "o_exError = o_out - Y\n",
    "o_delta = o_exError * o_out * (1 - o_out)\n",
    "w2_update = np.dot(h_out.T, o_delta)/N\n",
    "\n",
    "W_2 = W_2 - fit_rate * w2_update\n",
    "\n",
    "h_exError = np.dot(o_delta, W_2.T)\n",
    "h_delta = h_exError * h_out * (1 - h_out)\n",
    "w1_update = np.dot(x.T, h_delta)/N\n",
    "\n",
    "W_1 = W_1 - fit_rate * w1_update"
   ]
  },
  {
   "cell_type": "code",
   "execution_count": 19,
   "metadata": {},
   "outputs": [
    {
     "data": {
      "text/plain": [
       "0.5449227468084691"
      ]
     },
     "execution_count": 19,
     "metadata": {},
     "output_type": "execute_result"
    }
   ],
   "source": [
    "h_in = np.dot(x, W_1)\n",
    "h_out = sig(h_in)\n",
    "\n",
    "o_in = np.dot(h_out,W_2)\n",
    "o_out = sig(o_in)\n",
    "\n",
    "result = ((o_out - Y)**2).sum()/(2*N)\n",
    "result"
   ]
  },
  {
   "cell_type": "code",
   "execution_count": null,
   "metadata": {},
   "outputs": [],
   "source": []
  }
 ],
 "metadata": {
  "kernelspec": {
   "display_name": "Python 3.10.8 64-bit (microsoft store)",
   "language": "python",
   "name": "python3"
  },
  "language_info": {
   "codemirror_mode": {
    "name": "ipython",
    "version": 3
   },
   "file_extension": ".py",
   "mimetype": "text/x-python",
   "name": "python",
   "nbconvert_exporter": "python",
   "pygments_lexer": "ipython3",
   "version": "3.10.8"
  },
  "orig_nbformat": 4,
  "vscode": {
   "interpreter": {
    "hash": "ede87896682d837b6cc05e8dd66c3fe864ced8cde933c130185ab98b3129427f"
   }
  }
 },
 "nbformat": 4,
 "nbformat_minor": 2
}
